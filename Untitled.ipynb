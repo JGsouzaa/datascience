{
 "cells": [
  {
   "cell_type": "code",
   "execution_count": 1,
   "id": "cd275058",
   "metadata": {},
   "outputs": [],
   "source": [
    "import pandas as pd\n",
    "import matplotlib.pyplot as plt\n",
    "import seaborn as sb"
   ]
  },
  {
   "cell_type": "markdown",
   "id": "02a38a48",
   "metadata": {},
   "source": [
    "Data visualization"
   ]
  },
  {
   "cell_type": "code",
   "execution_count": 2,
   "id": "60313cc7",
   "metadata": {},
   "outputs": [
    {
     "data": {
      "text/html": [
       "<div>\n",
       "<style scoped>\n",
       "    .dataframe tbody tr th:only-of-type {\n",
       "        vertical-align: middle;\n",
       "    }\n",
       "\n",
       "    .dataframe tbody tr th {\n",
       "        vertical-align: top;\n",
       "    }\n",
       "\n",
       "    .dataframe thead th {\n",
       "        text-align: right;\n",
       "    }\n",
       "</style>\n",
       "<table border=\"1\" class=\"dataframe\">\n",
       "  <thead>\n",
       "    <tr style=\"text-align: right;\">\n",
       "      <th></th>\n",
       "      <th>work_year</th>\n",
       "      <th>experience_level</th>\n",
       "      <th>employment_type</th>\n",
       "      <th>job_title</th>\n",
       "      <th>salary</th>\n",
       "      <th>salary_currency</th>\n",
       "      <th>salary_in_usd</th>\n",
       "      <th>employee_residence</th>\n",
       "      <th>remote_ratio</th>\n",
       "      <th>company_location</th>\n",
       "      <th>company_size</th>\n",
       "    </tr>\n",
       "  </thead>\n",
       "  <tbody>\n",
       "    <tr>\n",
       "      <th>0</th>\n",
       "      <td>2020</td>\n",
       "      <td>MI</td>\n",
       "      <td>FT</td>\n",
       "      <td>Data Scientist</td>\n",
       "      <td>70000</td>\n",
       "      <td>EUR</td>\n",
       "      <td>79833</td>\n",
       "      <td>DE</td>\n",
       "      <td>0</td>\n",
       "      <td>DE</td>\n",
       "      <td>L</td>\n",
       "    </tr>\n",
       "    <tr>\n",
       "      <th>1</th>\n",
       "      <td>2020</td>\n",
       "      <td>SE</td>\n",
       "      <td>FT</td>\n",
       "      <td>Machine Learning Scientist</td>\n",
       "      <td>260000</td>\n",
       "      <td>USD</td>\n",
       "      <td>260000</td>\n",
       "      <td>JP</td>\n",
       "      <td>0</td>\n",
       "      <td>JP</td>\n",
       "      <td>S</td>\n",
       "    </tr>\n",
       "    <tr>\n",
       "      <th>2</th>\n",
       "      <td>2020</td>\n",
       "      <td>SE</td>\n",
       "      <td>FT</td>\n",
       "      <td>Big Data Engineer</td>\n",
       "      <td>85000</td>\n",
       "      <td>GBP</td>\n",
       "      <td>109024</td>\n",
       "      <td>GB</td>\n",
       "      <td>50</td>\n",
       "      <td>GB</td>\n",
       "      <td>M</td>\n",
       "    </tr>\n",
       "    <tr>\n",
       "      <th>3</th>\n",
       "      <td>2020</td>\n",
       "      <td>MI</td>\n",
       "      <td>FT</td>\n",
       "      <td>Product Data Analyst</td>\n",
       "      <td>20000</td>\n",
       "      <td>USD</td>\n",
       "      <td>20000</td>\n",
       "      <td>HN</td>\n",
       "      <td>0</td>\n",
       "      <td>HN</td>\n",
       "      <td>S</td>\n",
       "    </tr>\n",
       "    <tr>\n",
       "      <th>4</th>\n",
       "      <td>2020</td>\n",
       "      <td>SE</td>\n",
       "      <td>FT</td>\n",
       "      <td>Machine Learning Engineer</td>\n",
       "      <td>150000</td>\n",
       "      <td>USD</td>\n",
       "      <td>150000</td>\n",
       "      <td>US</td>\n",
       "      <td>50</td>\n",
       "      <td>US</td>\n",
       "      <td>L</td>\n",
       "    </tr>\n",
       "  </tbody>\n",
       "</table>\n",
       "</div>"
      ],
      "text/plain": [
       "   work_year experience_level employment_type                   job_title  \\\n",
       "0       2020               MI              FT              Data Scientist   \n",
       "1       2020               SE              FT  Machine Learning Scientist   \n",
       "2       2020               SE              FT           Big Data Engineer   \n",
       "3       2020               MI              FT        Product Data Analyst   \n",
       "4       2020               SE              FT   Machine Learning Engineer   \n",
       "\n",
       "   salary salary_currency  salary_in_usd employee_residence  remote_ratio  \\\n",
       "0   70000             EUR          79833                 DE             0   \n",
       "1  260000             USD         260000                 JP             0   \n",
       "2   85000             GBP         109024                 GB            50   \n",
       "3   20000             USD          20000                 HN             0   \n",
       "4  150000             USD         150000                 US            50   \n",
       "\n",
       "  company_location company_size  \n",
       "0               DE            L  \n",
       "1               JP            S  \n",
       "2               GB            M  \n",
       "3               HN            S  \n",
       "4               US            L  "
      ]
     },
     "execution_count": 2,
     "metadata": {},
     "output_type": "execute_result"
    }
   ],
   "source": [
    "df = pd.read_csv(\"ds_salaries.csv\")\n",
    "df.drop(columns='Unnamed: 0', inplace=True)\n",
    "df.head()"
   ]
  },
  {
   "cell_type": "markdown",
   "id": "a17dedea",
   "metadata": {},
   "source": [
    "Filter columns and get unique values"
   ]
  },
  {
   "cell_type": "code",
   "execution_count": 10,
   "id": "10f8e463",
   "metadata": {},
   "outputs": [],
   "source": [
    "dic_unique = {}\n",
    "filters = [\"work_year\", \"experience_level\", \"employment_type\", \"job_title\", \"employee_residence\", \"company_location\", \"company_size\"]\n",
    "for element in filters:\n",
    "    dic_unique[element] = list(df[element].unique())"
   ]
  },
  {
   "cell_type": "markdown",
   "id": "12bc3337",
   "metadata": {},
   "source": [
    "Analyze data type and convert object to strings"
   ]
  },
  {
   "cell_type": "code",
   "execution_count": 4,
   "id": "1fcc7472",
   "metadata": {},
   "outputs": [
    {
     "data": {
      "text/plain": [
       "work_year              int64\n",
       "experience_level      object\n",
       "employment_type       object\n",
       "job_title             object\n",
       "salary                 int64\n",
       "salary_currency       object\n",
       "salary_in_usd          int64\n",
       "employee_residence    object\n",
       "remote_ratio           int64\n",
       "company_location      object\n",
       "company_size          object\n",
       "dtype: object"
      ]
     },
     "execution_count": 4,
     "metadata": {},
     "output_type": "execute_result"
    }
   ],
   "source": [
    "df.dtypes"
   ]
  },
  {
   "cell_type": "code",
   "execution_count": 11,
   "id": "ca2fb5d0",
   "metadata": {},
   "outputs": [
    {
     "data": {
      "text/plain": [
       "work_year              int64\n",
       "experience_level      string\n",
       "employment_type       string\n",
       "job_title             string\n",
       "salary                 int64\n",
       "salary_currency       string\n",
       "salary_in_usd          int64\n",
       "employee_residence    string\n",
       "remote_ratio           int64\n",
       "company_location      string\n",
       "company_size          string\n",
       "dtype: object"
      ]
     },
     "execution_count": 11,
     "metadata": {},
     "output_type": "execute_result"
    }
   ],
   "source": [
    "string_col = df.select_dtypes(include=\"object\").columns\n",
    "df[string_col]=df[string_col].astype(\"string\")\n",
    "df.dtypes"
   ]
  },
  {
   "cell_type": "markdown",
   "id": "6843ed80",
   "metadata": {},
   "source": [
    "Group salaries by years and get the min, max and mean values"
   ]
  },
  {
   "cell_type": "code",
   "execution_count": 12,
   "id": "4395153e",
   "metadata": {},
   "outputs": [
    {
     "data": {
      "text/plain": [
       "{'work_year': [2020, 2021, 2022],\n",
       " 'experience_level': ['MI', 'SE', 'EN', 'EX'],\n",
       " 'employment_type': ['FT', 'CT', 'PT', 'FL'],\n",
       " 'job_title': ['Data Scientist',\n",
       "  'Machine Learning Scientist',\n",
       "  'Big Data Engineer',\n",
       "  'Product Data Analyst',\n",
       "  'Machine Learning Engineer',\n",
       "  'Data Analyst',\n",
       "  'Lead Data Scientist',\n",
       "  'Business Data Analyst',\n",
       "  'Lead Data Engineer',\n",
       "  'Lead Data Analyst',\n",
       "  'Data Engineer',\n",
       "  'Data Science Consultant',\n",
       "  'BI Data Analyst',\n",
       "  'Director of Data Science',\n",
       "  'Research Scientist',\n",
       "  'Machine Learning Manager',\n",
       "  'Data Engineering Manager',\n",
       "  'Machine Learning Infrastructure Engineer',\n",
       "  'ML Engineer',\n",
       "  'AI Scientist',\n",
       "  'Computer Vision Engineer',\n",
       "  'Principal Data Scientist',\n",
       "  'Data Science Manager',\n",
       "  'Head of Data',\n",
       "  '3D Computer Vision Researcher',\n",
       "  'Data Analytics Engineer',\n",
       "  'Applied Data Scientist',\n",
       "  'Marketing Data Analyst',\n",
       "  'Cloud Data Engineer',\n",
       "  'Financial Data Analyst',\n",
       "  'Computer Vision Software Engineer',\n",
       "  'Director of Data Engineering',\n",
       "  'Data Science Engineer',\n",
       "  'Principal Data Engineer',\n",
       "  'Machine Learning Developer',\n",
       "  'Applied Machine Learning Scientist',\n",
       "  'Data Analytics Manager',\n",
       "  'Head of Data Science',\n",
       "  'Data Specialist',\n",
       "  'Data Architect',\n",
       "  'Finance Data Analyst',\n",
       "  'Principal Data Analyst',\n",
       "  'Big Data Architect',\n",
       "  'Staff Data Scientist',\n",
       "  'Analytics Engineer',\n",
       "  'ETL Developer',\n",
       "  'Head of Machine Learning',\n",
       "  'NLP Engineer',\n",
       "  'Lead Machine Learning Engineer',\n",
       "  'Data Analytics Lead'],\n",
       " 'employee_residence': ['DE',\n",
       "  'JP',\n",
       "  'GB',\n",
       "  'HN',\n",
       "  'US',\n",
       "  'HU',\n",
       "  'NZ',\n",
       "  'FR',\n",
       "  'IN',\n",
       "  'PK',\n",
       "  'PL',\n",
       "  'PT',\n",
       "  'CN',\n",
       "  'GR',\n",
       "  'AE',\n",
       "  'NL',\n",
       "  'MX',\n",
       "  'CA',\n",
       "  'AT',\n",
       "  'NG',\n",
       "  'PH',\n",
       "  'ES',\n",
       "  'DK',\n",
       "  'RU',\n",
       "  'IT',\n",
       "  'HR',\n",
       "  'BG',\n",
       "  'SG',\n",
       "  'BR',\n",
       "  'IQ',\n",
       "  'VN',\n",
       "  'BE',\n",
       "  'UA',\n",
       "  'MT',\n",
       "  'CL',\n",
       "  'RO',\n",
       "  'IR',\n",
       "  'CO',\n",
       "  'MD',\n",
       "  'KE',\n",
       "  'SI',\n",
       "  'HK',\n",
       "  'TR',\n",
       "  'RS',\n",
       "  'PR',\n",
       "  'LU',\n",
       "  'JE',\n",
       "  'CZ',\n",
       "  'AR',\n",
       "  'DZ',\n",
       "  'TN',\n",
       "  'MY',\n",
       "  'EE',\n",
       "  'AU',\n",
       "  'BO',\n",
       "  'IE',\n",
       "  'CH'],\n",
       " 'company_location': ['DE',\n",
       "  'JP',\n",
       "  'GB',\n",
       "  'HN',\n",
       "  'US',\n",
       "  'HU',\n",
       "  'NZ',\n",
       "  'FR',\n",
       "  'IN',\n",
       "  'PK',\n",
       "  'CN',\n",
       "  'GR',\n",
       "  'AE',\n",
       "  'NL',\n",
       "  'MX',\n",
       "  'CA',\n",
       "  'AT',\n",
       "  'NG',\n",
       "  'ES',\n",
       "  'PT',\n",
       "  'DK',\n",
       "  'IT',\n",
       "  'HR',\n",
       "  'LU',\n",
       "  'PL',\n",
       "  'SG',\n",
       "  'RO',\n",
       "  'IQ',\n",
       "  'BR',\n",
       "  'BE',\n",
       "  'UA',\n",
       "  'IL',\n",
       "  'RU',\n",
       "  'MT',\n",
       "  'CL',\n",
       "  'IR',\n",
       "  'CO',\n",
       "  'MD',\n",
       "  'KE',\n",
       "  'SI',\n",
       "  'CH',\n",
       "  'VN',\n",
       "  'AS',\n",
       "  'TR',\n",
       "  'CZ',\n",
       "  'DZ',\n",
       "  'EE',\n",
       "  'MY',\n",
       "  'AU',\n",
       "  'IE'],\n",
       " 'company_size': ['L', 'S', 'M']}"
      ]
     },
     "execution_count": 12,
     "metadata": {},
     "output_type": "execute_result"
    }
   ],
   "source": [
    "dic_unique"
   ]
  },
  {
   "cell_type": "code",
   "execution_count": 17,
   "id": "abca73a9",
   "metadata": {},
   "outputs": [
    {
     "data": {
      "text/plain": [
       "range(1, 20, 3)"
      ]
     },
     "execution_count": 17,
     "metadata": {},
     "output_type": "execute_result"
    }
   ],
   "source": [
    "range(1,20, 3)"
   ]
  },
  {
   "cell_type": "code",
   "execution_count": null,
   "id": "e534f555",
   "metadata": {},
   "outputs": [],
   "source": []
  }
 ],
 "metadata": {
  "kernelspec": {
   "display_name": "Python 3 (ipykernel)",
   "language": "python",
   "name": "python3"
  },
  "language_info": {
   "codemirror_mode": {
    "name": "ipython",
    "version": 3
   },
   "file_extension": ".py",
   "mimetype": "text/x-python",
   "name": "python",
   "nbconvert_exporter": "python",
   "pygments_lexer": "ipython3",
   "version": "3.9.12"
  }
 },
 "nbformat": 4,
 "nbformat_minor": 5
}
